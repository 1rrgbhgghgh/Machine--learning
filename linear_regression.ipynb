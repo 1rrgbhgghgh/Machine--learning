{
  "nbformat": 4,
  "nbformat_minor": 0,
  "metadata": {
    "colab": {
      "provenance": []
    },
    "kernelspec": {
      "name": "python3",
      "display_name": "Python 3"
    },
    "language_info": {
      "name": "python"
    }
  },
  "cells": [
    {
      "cell_type": "code",
      "execution_count": 14,
      "metadata": {
        "colab": {
          "base_uri": "https://localhost:8080/"
        },
        "id": "9J0hBMUi1oyY",
        "outputId": "df2dc6bb-620c-4728-f471-4e97b4f1e726"
      },
      "outputs": [
        {
          "output_type": "stream",
          "name": "stdout",
          "text": [
            "The predicted price  is $17.72\n"
          ]
        }
      ],
      "source": [
        "import numpy as np\n",
        "import matplotlib.pyplot as plt\n",
        "#pizza sizes and prices\n",
        "sizes=np.array([11,12,15,16,19])\n",
        "prices=([9,10,14,18,20])\n",
        "\n",
        "#linear regression function\n",
        "def linear_regression(x,y):\n",
        "\n",
        "  x_mean=np.mean(x)\n",
        "  y_mean=np.mean(y)\n",
        "\n",
        "  numerator=np.sum((x-x_mean)*(y-y_mean))\n",
        "  denominator=np.sum((x-x_mean)**2)\n",
        "\n",
        "  slope=numerator/denominator\n",
        "  intercept=y_mean-slope*x_mean\n",
        "\n",
        "  return slope,intercept\n",
        "\n",
        "#fit model\n",
        "slope,intercept=linear_regression(sizes,prices)\n",
        "\n",
        "#now predict the price of random size\n",
        "\n",
        "random_size=17\n",
        "price_predicted=slope*random_size+intercept\n",
        "\n",
        "print(f\"The predicted price  is ${price_predicted:.2f}\")"
      ]
    },
    {
      "cell_type": "code",
      "source": [
        "\n",
        "\n",
        "\n"
      ],
      "metadata": {
        "id": "x9akMxrnEfFr"
      },
      "execution_count": 14,
      "outputs": []
    },
    {
      "cell_type": "code",
      "source": [],
      "metadata": {
        "id": "yunLydNVFTVu"
      },
      "execution_count": null,
      "outputs": []
    }
  ]
}